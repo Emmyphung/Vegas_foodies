{
  "nbformat": 4,
  "nbformat_minor": 0,
  "metadata": {
    "colab": {
      "name": "EDA_CSV.ipynb",
      "provenance": [],
      "collapsed_sections": []
    },
    "kernelspec": {
      "name": "python3",
      "display_name": "Python 3"
    }
  },
  "cells": [
    {
      "cell_type": "markdown",
      "metadata": {
        "id": "858JBEy83ht7",
        "colab_type": "text"
      },
      "source": [
        "# Exploratory Analysis\n",
        "\n",
        "Data source: Yelp's dataset on Kaggle"
      ]
    },
    {
      "cell_type": "markdown",
      "metadata": {
        "id": "jxMEZj0I3lgR",
        "colab_type": "text"
      },
      "source": [
        "Questions to be considered:\n",
        "\n",
        "\n",
        "1. Distribution of categories\n",
        "2. Average reviews for highest ranking\n",
        "3. Distribution of stars\n",
        "4. Distribution of restaurants by cities\n",
        "5. Zoom in more details for one most populous category\n"
      ]
    },
    {
      "cell_type": "code",
      "metadata": {
        "id": "aB_B_LWNFD2z",
        "colab_type": "code",
        "outputId": "f42d79a5-d4da-4179-a915-32cae15e8b96",
        "colab": {
          "base_uri": "https://localhost:8080/",
          "height": 105
        }
      },
      "source": [
        "import pandas as pd\n",
        "import numpy as np\n",
        "import matplotlib.pyplot as plt\n",
        "\n",
        "# Learn how to import data from https://colab.research.google.com/drive/1srw_HFWQ2SMgmWIawucXfusGzrj1_U0q\n",
        "from google.colab import drive\n",
        "drive.mount('/content/gdrive', force_remount = True)\n",
        "\n",
        "# there will be a prompt for authentication. Follow the link, click yes, and copy the token\n",
        "\n",
        "# get name of the files in folder\n",
        "!ls \"/content/gdrive/My Drive/YELP/yelp-csv/\"\n"
      ],
      "execution_count": 46,
      "outputs": [
        {
          "output_type": "stream",
          "text": [
            "Mounted at /content/gdrive\n",
            "restaurant.csv\t     vegas_cuisine.gsheet\t   yelp_review.csv\n",
            "restaurant.gsheet    yelp_business_attributes.csv  yelp_tip.csv\n",
            "restaurant_open.csv  yelp_business.csv\t\t   yelp_user.csv\n",
            "vegas_cuisine.csv    yelp_checkin.csv\n"
          ],
          "name": "stdout"
        }
      ]
    },
    {
      "cell_type": "code",
      "metadata": {
        "id": "YShnvySPYDXW",
        "colab_type": "code",
        "colab": {}
      },
      "source": [
        "biz_file_path = '/content/gdrive/My Drive/YELP/yelp-csv/restaurant_open.csv'\n",
        "biz_att_file_path = '/content/gdrive/My Drive/YELP/yelp-csv/yelp_business_attributes.csv'"
      ],
      "execution_count": 0,
      "outputs": []
    },
    {
      "cell_type": "code",
      "metadata": {
        "id": "6whDWpFmFmzj",
        "colab_type": "code",
        "colab": {}
      },
      "source": [
        "biz_df = pd.read_csv(biz_file_path )\n",
        "biz_att = pd.read_csv(biz_att_file_path )"
      ],
      "execution_count": 0,
      "outputs": []
    },
    {
      "cell_type": "code",
      "metadata": {
        "id": "lPixEXOKS08V",
        "colab_type": "code",
        "colab": {}
      },
      "source": [
        "import numpy as np"
      ],
      "execution_count": 0,
      "outputs": []
    },
    {
      "cell_type": "markdown",
      "metadata": {
        "id": "AI3LjNZa33dh",
        "colab_type": "text"
      },
      "source": [
        "Take a look at all the columns"
      ]
    },
    {
      "cell_type": "code",
      "metadata": {
        "id": "pU-lj6mpVq64",
        "colab_type": "code",
        "outputId": "572a08f0-8501-41c8-8e11-cc2845845fff",
        "colab": {
          "base_uri": "https://localhost:8080/",
          "height": 1000
        }
      },
      "source": [
        "data = pd.merge(biz_df,biz_att, on='business_id')\n",
        "data.columns.tolist()"
      ],
      "execution_count": 5,
      "outputs": [
        {
          "output_type": "execute_result",
          "data": {
            "text/plain": [
              "['Unnamed: 0',\n",
              " 'business_id',\n",
              " 'name',\n",
              " 'neighborhood',\n",
              " 'address',\n",
              " 'city',\n",
              " 'state',\n",
              " 'postal_code',\n",
              " 'latitude',\n",
              " 'longitude',\n",
              " 'stars',\n",
              " 'review_count',\n",
              " 'is_open',\n",
              " 'attributes',\n",
              " 'categories',\n",
              " 'hours',\n",
              " 'split_categories',\n",
              " 'AcceptsInsurance',\n",
              " 'ByAppointmentOnly',\n",
              " 'BusinessAcceptsCreditCards',\n",
              " 'BusinessParking_garage',\n",
              " 'BusinessParking_street',\n",
              " 'BusinessParking_validated',\n",
              " 'BusinessParking_lot',\n",
              " 'BusinessParking_valet',\n",
              " 'HairSpecializesIn_coloring',\n",
              " 'HairSpecializesIn_africanamerican',\n",
              " 'HairSpecializesIn_curly',\n",
              " 'HairSpecializesIn_perms',\n",
              " 'HairSpecializesIn_kids',\n",
              " 'HairSpecializesIn_extensions',\n",
              " 'HairSpecializesIn_asian',\n",
              " 'HairSpecializesIn_straightperms',\n",
              " 'RestaurantsPriceRange2',\n",
              " 'GoodForKids',\n",
              " 'WheelchairAccessible',\n",
              " 'BikeParking',\n",
              " 'Alcohol',\n",
              " 'HasTV',\n",
              " 'NoiseLevel',\n",
              " 'RestaurantsAttire',\n",
              " 'Music_dj',\n",
              " 'Music_background_music',\n",
              " 'Music_no_music',\n",
              " 'Music_karaoke',\n",
              " 'Music_live',\n",
              " 'Music_video',\n",
              " 'Music_jukebox',\n",
              " 'Ambience_romantic',\n",
              " 'Ambience_intimate',\n",
              " 'Ambience_classy',\n",
              " 'Ambience_hipster',\n",
              " 'Ambience_divey',\n",
              " 'Ambience_touristy',\n",
              " 'Ambience_trendy',\n",
              " 'Ambience_upscale',\n",
              " 'Ambience_casual',\n",
              " 'RestaurantsGoodForGroups',\n",
              " 'Caters',\n",
              " 'WiFi',\n",
              " 'RestaurantsReservations',\n",
              " 'RestaurantsTakeOut',\n",
              " 'HappyHour',\n",
              " 'GoodForDancing',\n",
              " 'RestaurantsTableService',\n",
              " 'OutdoorSeating',\n",
              " 'RestaurantsDelivery',\n",
              " 'BestNights_monday',\n",
              " 'BestNights_tuesday',\n",
              " 'BestNights_friday',\n",
              " 'BestNights_wednesday',\n",
              " 'BestNights_thursday',\n",
              " 'BestNights_sunday',\n",
              " 'BestNights_saturday',\n",
              " 'GoodForMeal_dessert',\n",
              " 'GoodForMeal_latenight',\n",
              " 'GoodForMeal_lunch',\n",
              " 'GoodForMeal_dinner',\n",
              " 'GoodForMeal_breakfast',\n",
              " 'GoodForMeal_brunch',\n",
              " 'CoatCheck',\n",
              " 'Smoking',\n",
              " 'DriveThru',\n",
              " 'DogsAllowed',\n",
              " 'BusinessAcceptsBitcoin',\n",
              " 'Open24Hours',\n",
              " 'BYOBCorkage',\n",
              " 'BYOB',\n",
              " 'Corkage',\n",
              " 'DietaryRestrictions_dairy-free',\n",
              " 'DietaryRestrictions_gluten-free',\n",
              " 'DietaryRestrictions_vegan',\n",
              " 'DietaryRestrictions_kosher',\n",
              " 'DietaryRestrictions_halal',\n",
              " 'DietaryRestrictions_soy-free',\n",
              " 'DietaryRestrictions_vegetarian',\n",
              " 'AgesAllowed',\n",
              " 'RestaurantsCounterService']"
            ]
          },
          "metadata": {
            "tags": []
          },
          "execution_count": 5
        }
      ]
    },
    {
      "cell_type": "code",
      "metadata": {
        "id": "IxGI_3rE7b3c",
        "colab_type": "code",
        "outputId": "1a6c8fe7-63d4-49d0-ea96-130305c975c1",
        "colab": {
          "base_uri": "https://localhost:8080/",
          "height": 34
        }
      },
      "source": [
        "att = data.columns.tolist()\n",
        "len(att)"
      ],
      "execution_count": 6,
      "outputs": [
        {
          "output_type": "execute_result",
          "data": {
            "text/plain": [
              "98"
            ]
          },
          "metadata": {
            "tags": []
          },
          "execution_count": 6
        }
      ]
    },
    {
      "cell_type": "markdown",
      "metadata": {
        "id": "M9P7hGqj3_Pd",
        "colab_type": "text"
      },
      "source": [
        "There are 98 columns after merging the two datasets, the 'business' data and the 'attributes' data which extracts the attributes listed in 'business' into binary features."
      ]
    },
    {
      "cell_type": "markdown",
      "metadata": {
        "id": "cOAJRzPj4rm5",
        "colab_type": "text"
      },
      "source": [
        "**Feature Engineering**\n",
        "\n",
        "Make sure that all of our binary features only take a value of 0 or 1."
      ]
    },
    {
      "cell_type": "code",
      "metadata": {
        "id": "kKcxAlxUFr__",
        "colab_type": "code",
        "colab": {}
      },
      "source": [
        "data.replace(to_replace='True', value = 1,inplace=True)\n",
        "data.replace(to_replace='False', value = 0,inplace=True)\n",
        "data.replace(to_replace='Na', value = 0.5,inplace=True) #only treat this as a categorical variable"
      ],
      "execution_count": 0,
      "outputs": []
    },
    {
      "cell_type": "code",
      "metadata": {
        "id": "C4MLdDy6duYe",
        "colab_type": "code",
        "colab": {}
      },
      "source": [
        "data.replace(to_replace= ['beer_and_wine','casual','free',\n",
        "            'full_bar','loud', 'outdoor','quiet', 'yes', 'yes_free', '1', '2'], value = 1,inplace=True)\n",
        "data.replace(to_replace=['no', 'none'], value = 0,inplace=True)"
      ],
      "execution_count": 0,
      "outputs": []
    },
    {
      "cell_type": "markdown",
      "metadata": {
        "id": "CL7RqfmX48MX",
        "colab_type": "text"
      },
      "source": [
        "Based on our previous EDA, Las Vegas and Toronto has the most restaurants. We decide to pick Las Vegas for this project."
      ]
    },
    {
      "cell_type": "code",
      "metadata": {
        "id": "hCmqbRn9pTAU",
        "colab_type": "code",
        "colab": {}
      },
      "source": [
        "features = ['Unnamed: 0',\n",
        " 'business_id',\n",
        " 'name',\n",
        " 'neighborhood',\n",
        " 'address',\n",
        " 'city',\n",
        " 'state',\n",
        " 'postal_code',\n",
        " 'latitude',\n",
        " 'longitude',\n",
        " 'stars',\n",
        " 'review_count',\n",
        " 'is_open',\n",
        " 'categories',\n",
        " 'hours',]"
      ],
      "execution_count": 0,
      "outputs": []
    },
    {
      "cell_type": "code",
      "metadata": {
        "id": "Ygu0_JRYb1_S",
        "colab_type": "code",
        "colab": {}
      },
      "source": [
        "att_col = att.apply(pd.value_counts)\n",
        "\n",
        "col_names = att_col.columns.tolist()"
      ],
      "execution_count": 0,
      "outputs": []
    },
    {
      "cell_type": "markdown",
      "metadata": {
        "id": "LchG9Z6A5LtV",
        "colab_type": "text"
      },
      "source": [
        "Using heuristic method, we remove some irrelevant features."
      ]
    },
    {
      "cell_type": "code",
      "metadata": {
        "id": "_LnHGAUHoeV_",
        "colab_type": "code",
        "colab": {}
      },
      "source": [
        "att_col= att_col.drop(columns ='HairSpecializesIn_coloring')\n",
        "col = att_col.loc[:,~(att_col == att.shape[0]).any()].columns.tolist()\n",
        "\n",
        "colnames = features + col\n",
        "dataclean = data[colnames]\n",
        "\n",
        "vegas_clean = dataclean[dataclean['city']=='Las Vegas']"
      ],
      "execution_count": 0,
      "outputs": []
    },
    {
      "cell_type": "markdown",
      "metadata": {
        "id": "-noRj-jT6OMi",
        "colab_type": "text"
      },
      "source": [
        "Extract features from column 'Category'"
      ]
    },
    {
      "cell_type": "code",
      "metadata": {
        "id": "c6ZomVNOmHnC",
        "colab_type": "code",
        "outputId": "2ebadd7f-2a94-41e2-cef4-625bf15d28b4",
        "colab": {
          "base_uri": "https://localhost:8080/",
          "height": 52
        }
      },
      "source": [
        "# business_df['categories'].head()\n",
        "categories_df = vegas_clean['categories'].str.split(',', expand = True)\n",
        "cat_ls = categories_df.values.flatten()\n",
        "cat_ls = list(filter(None, cat_ls)) \n",
        "cat_ls = np.unique(cat_ls)\n",
        "print(len(cat_ls))\n",
        "# # clean the words\n",
        "# leading whitespace \n",
        "cat_ls = [s.strip() for s in cat_ls] \n",
        "cat_ls = np.unique(cat_ls)\n",
        "print(len(cat_ls))"
      ],
      "execution_count": 16,
      "outputs": [
        {
          "output_type": "stream",
          "text": [
            "564\n",
            "387\n"
          ],
          "name": "stdout"
        }
      ]
    },
    {
      "cell_type": "code",
      "metadata": {
        "id": "kdZVp8LIkI86",
        "colab_type": "code",
        "outputId": "c95d8134-b317-416f-8879-46f588e7ea5f",
        "colab": {
          "base_uri": "https://localhost:8080/",
          "height": 122
        }
      },
      "source": [
        "# make empty columns\n",
        "for i in cat_ls:\n",
        "  vegas_clean[i] = 0"
      ],
      "execution_count": 17,
      "outputs": [
        {
          "output_type": "stream",
          "text": [
            "/usr/local/lib/python3.6/dist-packages/ipykernel_launcher.py:2: SettingWithCopyWarning: \n",
            "A value is trying to be set on a copy of a slice from a DataFrame.\n",
            "Try using .loc[row_indexer,col_indexer] = value instead\n",
            "\n",
            "See the caveats in the documentation: http://pandas.pydata.org/pandas-docs/stable/user_guide/indexing.html#returning-a-view-versus-a-copy\n",
            "  \n"
          ],
          "name": "stderr"
        }
      ]
    },
    {
      "cell_type": "code",
      "metadata": {
        "id": "bB-lkIT9mGvw",
        "colab_type": "code",
        "outputId": "fb94f916-c83c-4874-921a-a2eb7b76e356",
        "colab": {
          "base_uri": "https://localhost:8080/",
          "height": 193
        }
      },
      "source": [
        "# sort by largest categories\n",
        "cats_df = vegas_clean[vegas_clean.columns[-387:]]\n",
        "\n",
        "for c in range(0,len(cat_ls)):\n",
        "  temp_c=str(cats_df.columns.tolist()[c])\n",
        "\n",
        "  for i in range(len(vegas_clean['categories'])):\n",
        "    if temp_c in str(vegas_clean['categories'].iloc[i]):\n",
        "      vegas_clean[temp_c].iloc[i] = 1\n"
      ],
      "execution_count": 18,
      "outputs": [
        {
          "output_type": "stream",
          "text": [
            "/usr/local/lib/python3.6/dist-packages/pandas/core/indexing.py:205: SettingWithCopyWarning: \n",
            "A value is trying to be set on a copy of a slice from a DataFrame\n",
            "\n",
            "See the caveats in the documentation: http://pandas.pydata.org/pandas-docs/stable/user_guide/indexing.html#returning-a-view-versus-a-copy\n",
            "  self._setitem_with_indexer(indexer, value)\n",
            "/usr/local/lib/python3.6/dist-packages/ipykernel_launcher.py:8: SettingWithCopyWarning: \n",
            "A value is trying to be set on a copy of a slice from a DataFrame\n",
            "\n",
            "See the caveats in the documentation: http://pandas.pydata.org/pandas-docs/stable/user_guide/indexing.html#returning-a-view-versus-a-copy\n",
            "  \n"
          ],
          "name": "stderr"
        }
      ]
    },
    {
      "cell_type": "markdown",
      "metadata": {
        "id": "rutIVwVL6Wua",
        "colab_type": "text"
      },
      "source": [
        "Fill in missing values"
      ]
    },
    {
      "cell_type": "code",
      "metadata": {
        "id": "uF2MLA31vawB",
        "colab_type": "code",
        "colab": {}
      },
      "source": [
        "vegas_clean.describe()\n",
        "vegas_final = vegas_clean.fillna(vegas_clean.mean())"
      ],
      "execution_count": 0,
      "outputs": []
    },
    {
      "cell_type": "code",
      "metadata": {
        "id": "45qEldZnnHqC",
        "colab_type": "code",
        "outputId": "b547ac87-7bb3-4958-abb2-1cc05c452619",
        "colab": {
          "base_uri": "https://localhost:8080/",
          "height": 664
        }
      },
      "source": [
        "vegas_final= vegas_final.rename(columns ={'Unnamed: 0': 'org_index'})\n",
        "vegas_final.head()"
      ],
      "execution_count": 20,
      "outputs": [
        {
          "output_type": "execute_result",
          "data": {
            "text/html": [
              "<div>\n",
              "<style scoped>\n",
              "    .dataframe tbody tr th:only-of-type {\n",
              "        vertical-align: middle;\n",
              "    }\n",
              "\n",
              "    .dataframe tbody tr th {\n",
              "        vertical-align: top;\n",
              "    }\n",
              "\n",
              "    .dataframe thead th {\n",
              "        text-align: right;\n",
              "    }\n",
              "</style>\n",
              "<table border=\"1\" class=\"dataframe\">\n",
              "  <thead>\n",
              "    <tr style=\"text-align: right;\">\n",
              "      <th></th>\n",
              "      <th>org_index</th>\n",
              "      <th>business_id</th>\n",
              "      <th>name</th>\n",
              "      <th>neighborhood</th>\n",
              "      <th>address</th>\n",
              "      <th>city</th>\n",
              "      <th>state</th>\n",
              "      <th>postal_code</th>\n",
              "      <th>latitude</th>\n",
              "      <th>longitude</th>\n",
              "      <th>stars</th>\n",
              "      <th>review_count</th>\n",
              "      <th>is_open</th>\n",
              "      <th>categories</th>\n",
              "      <th>hours</th>\n",
              "      <th>BusinessAcceptsCreditCards</th>\n",
              "      <th>BusinessParking_garage</th>\n",
              "      <th>BusinessParking_street</th>\n",
              "      <th>BusinessParking_validated</th>\n",
              "      <th>BusinessParking_lot</th>\n",
              "      <th>BusinessParking_valet</th>\n",
              "      <th>GoodForKids</th>\n",
              "      <th>WheelchairAccessible</th>\n",
              "      <th>BikeParking</th>\n",
              "      <th>Alcohol</th>\n",
              "      <th>HasTV</th>\n",
              "      <th>NoiseLevel</th>\n",
              "      <th>RestaurantsAttire</th>\n",
              "      <th>Music_dj</th>\n",
              "      <th>Caters</th>\n",
              "      <th>WiFi</th>\n",
              "      <th>RestaurantsReservations</th>\n",
              "      <th>RestaurantsTakeOut</th>\n",
              "      <th>HappyHour</th>\n",
              "      <th>GoodForDancing</th>\n",
              "      <th>RestaurantsTableService</th>\n",
              "      <th>OutdoorSeating</th>\n",
              "      <th>RestaurantsDelivery</th>\n",
              "      <th>BestNights_monday</th>\n",
              "      <th>BestNights_tuesday</th>\n",
              "      <th>...</th>\n",
              "      <th>Themed Cafes</th>\n",
              "      <th>Tiki Bars</th>\n",
              "      <th>Tobacco Shops</th>\n",
              "      <th>Tours</th>\n",
              "      <th>Towing</th>\n",
              "      <th>Trainers</th>\n",
              "      <th>Transmission Repair</th>\n",
              "      <th>Transportation</th>\n",
              "      <th>Travel Services</th>\n",
              "      <th>Truck Rental</th>\n",
              "      <th>Turkish</th>\n",
              "      <th>Tuscan</th>\n",
              "      <th>Ukrainian</th>\n",
              "      <th>Vegan</th>\n",
              "      <th>Vegetarian</th>\n",
              "      <th>Vehicle Wraps</th>\n",
              "      <th>Venezuelan</th>\n",
              "      <th>Venues &amp; Event Spaces</th>\n",
              "      <th>Videos &amp; Video Game Rental</th>\n",
              "      <th>Vietnamese</th>\n",
              "      <th>Vitamins &amp; Supplements</th>\n",
              "      <th>Waffles</th>\n",
              "      <th>Walking Tours</th>\n",
              "      <th>Water Heater Installation/Repair</th>\n",
              "      <th>Water Stores</th>\n",
              "      <th>Waxing</th>\n",
              "      <th>Wedding Chapels</th>\n",
              "      <th>Wedding Planning</th>\n",
              "      <th>Weight Loss Centers</th>\n",
              "      <th>Whiskey Bars</th>\n",
              "      <th>Wholesale Stores</th>\n",
              "      <th>Wholesalers</th>\n",
              "      <th>Windshield Installation &amp; Repair</th>\n",
              "      <th>Wine &amp; Spirits</th>\n",
              "      <th>Wine Bars</th>\n",
              "      <th>Wineries</th>\n",
              "      <th>Women's Clothing</th>\n",
              "      <th>Wraps</th>\n",
              "      <th>Yelp Events</th>\n",
              "      <th>Yoga</th>\n",
              "    </tr>\n",
              "  </thead>\n",
              "  <tbody>\n",
              "    <tr>\n",
              "      <th>8</th>\n",
              "      <td>32</td>\n",
              "      <td>kgffcoxT6BQp-gJ-UQ7Czw</td>\n",
              "      <td>Subway</td>\n",
              "      <td>Summerlin</td>\n",
              "      <td>2255 N Rampart Blvd</td>\n",
              "      <td>Las Vegas</td>\n",
              "      <td>NV</td>\n",
              "      <td>89128</td>\n",
              "      <td>36.201794</td>\n",
              "      <td>-115.281981</td>\n",
              "      <td>2.5</td>\n",
              "      <td>13</td>\n",
              "      <td>1</td>\n",
              "      <td>Fast Food, Restaurants, Sandwiches</td>\n",
              "      <td>{'Monday': '9:0-21:0', 'Tuesday': '9:0-21:0', ...</td>\n",
              "      <td>0.5</td>\n",
              "      <td>0.5</td>\n",
              "      <td>0.0</td>\n",
              "      <td>0.0</td>\n",
              "      <td>0.0</td>\n",
              "      <td>1.0</td>\n",
              "      <td>0.5</td>\n",
              "      <td>0.5</td>\n",
              "      <td>0.5</td>\n",
              "      <td>0.5</td>\n",
              "      <td>0.5</td>\n",
              "      <td>0.5</td>\n",
              "      <td>0.5</td>\n",
              "      <td>0.5</td>\n",
              "      <td>0.5</td>\n",
              "      <td>0.5</td>\n",
              "      <td>0.5</td>\n",
              "      <td>0.5</td>\n",
              "      <td>0.5</td>\n",
              "      <td>0.5</td>\n",
              "      <td>0.5</td>\n",
              "      <td>0.5</td>\n",
              "      <td>0.5</td>\n",
              "      <td>0.5</td>\n",
              "      <td>0.5</td>\n",
              "      <td>...</td>\n",
              "      <td>0</td>\n",
              "      <td>0</td>\n",
              "      <td>0</td>\n",
              "      <td>0</td>\n",
              "      <td>0</td>\n",
              "      <td>0</td>\n",
              "      <td>0</td>\n",
              "      <td>0</td>\n",
              "      <td>0</td>\n",
              "      <td>0</td>\n",
              "      <td>0</td>\n",
              "      <td>0</td>\n",
              "      <td>0</td>\n",
              "      <td>0</td>\n",
              "      <td>0</td>\n",
              "      <td>0</td>\n",
              "      <td>0</td>\n",
              "      <td>0</td>\n",
              "      <td>0</td>\n",
              "      <td>0</td>\n",
              "      <td>0</td>\n",
              "      <td>0</td>\n",
              "      <td>0</td>\n",
              "      <td>0</td>\n",
              "      <td>0</td>\n",
              "      <td>0</td>\n",
              "      <td>0</td>\n",
              "      <td>0</td>\n",
              "      <td>0</td>\n",
              "      <td>0</td>\n",
              "      <td>0</td>\n",
              "      <td>0</td>\n",
              "      <td>0</td>\n",
              "      <td>0</td>\n",
              "      <td>0</td>\n",
              "      <td>0</td>\n",
              "      <td>0</td>\n",
              "      <td>0</td>\n",
              "      <td>0</td>\n",
              "      <td>0</td>\n",
              "    </tr>\n",
              "    <tr>\n",
              "      <th>9</th>\n",
              "      <td>33</td>\n",
              "      <td>0jtRI7hVMpQHpUVtUy4ITw</td>\n",
              "      <td>Omelet House Summerlin</td>\n",
              "      <td>Summerlin</td>\n",
              "      <td>2227 N Rampart Blvd</td>\n",
              "      <td>Las Vegas</td>\n",
              "      <td>NV</td>\n",
              "      <td>89128</td>\n",
              "      <td>36.201990</td>\n",
              "      <td>-115.283122</td>\n",
              "      <td>4.0</td>\n",
              "      <td>242</td>\n",
              "      <td>1</td>\n",
              "      <td>Beer, Wine &amp; Spirits, Italian, Food, American ...</td>\n",
              "      <td>{'Monday': '7:0-14:30', 'Tuesday': '7:0-19:0',...</td>\n",
              "      <td>0.5</td>\n",
              "      <td>0.5</td>\n",
              "      <td>0.0</td>\n",
              "      <td>0.0</td>\n",
              "      <td>0.0</td>\n",
              "      <td>1.0</td>\n",
              "      <td>0.5</td>\n",
              "      <td>0.5</td>\n",
              "      <td>1.0</td>\n",
              "      <td>0.5</td>\n",
              "      <td>0.5</td>\n",
              "      <td>0.5</td>\n",
              "      <td>0.5</td>\n",
              "      <td>0.5</td>\n",
              "      <td>0.5</td>\n",
              "      <td>0.5</td>\n",
              "      <td>0.5</td>\n",
              "      <td>0.5</td>\n",
              "      <td>0.5</td>\n",
              "      <td>0.5</td>\n",
              "      <td>0.5</td>\n",
              "      <td>0.5</td>\n",
              "      <td>0.5</td>\n",
              "      <td>0.5</td>\n",
              "      <td>0.5</td>\n",
              "      <td>...</td>\n",
              "      <td>0</td>\n",
              "      <td>0</td>\n",
              "      <td>0</td>\n",
              "      <td>0</td>\n",
              "      <td>0</td>\n",
              "      <td>0</td>\n",
              "      <td>0</td>\n",
              "      <td>0</td>\n",
              "      <td>0</td>\n",
              "      <td>0</td>\n",
              "      <td>0</td>\n",
              "      <td>0</td>\n",
              "      <td>0</td>\n",
              "      <td>0</td>\n",
              "      <td>0</td>\n",
              "      <td>0</td>\n",
              "      <td>0</td>\n",
              "      <td>0</td>\n",
              "      <td>0</td>\n",
              "      <td>0</td>\n",
              "      <td>0</td>\n",
              "      <td>0</td>\n",
              "      <td>0</td>\n",
              "      <td>0</td>\n",
              "      <td>0</td>\n",
              "      <td>0</td>\n",
              "      <td>0</td>\n",
              "      <td>0</td>\n",
              "      <td>0</td>\n",
              "      <td>0</td>\n",
              "      <td>0</td>\n",
              "      <td>0</td>\n",
              "      <td>0</td>\n",
              "      <td>1</td>\n",
              "      <td>0</td>\n",
              "      <td>0</td>\n",
              "      <td>0</td>\n",
              "      <td>0</td>\n",
              "      <td>0</td>\n",
              "      <td>0</td>\n",
              "    </tr>\n",
              "    <tr>\n",
              "      <th>32</th>\n",
              "      <td>141</td>\n",
              "      <td>zhxnD7J5_sCrKSw5cwI9dQ</td>\n",
              "      <td>Popeyes Louisiana Kitchen</td>\n",
              "      <td>Sunrise</td>\n",
              "      <td>4505 E Bonanza Rd</td>\n",
              "      <td>Las Vegas</td>\n",
              "      <td>NV</td>\n",
              "      <td>89110</td>\n",
              "      <td>36.173140</td>\n",
              "      <td>-115.077945</td>\n",
              "      <td>1.5</td>\n",
              "      <td>16</td>\n",
              "      <td>1</td>\n",
              "      <td>Chicken Wings, Restaurants, Fast Food</td>\n",
              "      <td>{'Monday': '10:0-23:0', 'Tuesday': '10:0-23:0'...</td>\n",
              "      <td>0.5</td>\n",
              "      <td>0.5</td>\n",
              "      <td>0.0</td>\n",
              "      <td>0.0</td>\n",
              "      <td>0.0</td>\n",
              "      <td>0.0</td>\n",
              "      <td>0.5</td>\n",
              "      <td>0.5</td>\n",
              "      <td>0.5</td>\n",
              "      <td>0.5</td>\n",
              "      <td>0.5</td>\n",
              "      <td>0.5</td>\n",
              "      <td>0.5</td>\n",
              "      <td>0.5</td>\n",
              "      <td>0.5</td>\n",
              "      <td>0.5</td>\n",
              "      <td>0.5</td>\n",
              "      <td>0.5</td>\n",
              "      <td>0.5</td>\n",
              "      <td>0.5</td>\n",
              "      <td>0.5</td>\n",
              "      <td>0.5</td>\n",
              "      <td>0.5</td>\n",
              "      <td>0.5</td>\n",
              "      <td>0.5</td>\n",
              "      <td>...</td>\n",
              "      <td>0</td>\n",
              "      <td>0</td>\n",
              "      <td>0</td>\n",
              "      <td>0</td>\n",
              "      <td>0</td>\n",
              "      <td>0</td>\n",
              "      <td>0</td>\n",
              "      <td>0</td>\n",
              "      <td>0</td>\n",
              "      <td>0</td>\n",
              "      <td>0</td>\n",
              "      <td>0</td>\n",
              "      <td>0</td>\n",
              "      <td>0</td>\n",
              "      <td>0</td>\n",
              "      <td>0</td>\n",
              "      <td>0</td>\n",
              "      <td>0</td>\n",
              "      <td>0</td>\n",
              "      <td>0</td>\n",
              "      <td>0</td>\n",
              "      <td>0</td>\n",
              "      <td>0</td>\n",
              "      <td>0</td>\n",
              "      <td>0</td>\n",
              "      <td>0</td>\n",
              "      <td>0</td>\n",
              "      <td>0</td>\n",
              "      <td>0</td>\n",
              "      <td>0</td>\n",
              "      <td>0</td>\n",
              "      <td>0</td>\n",
              "      <td>0</td>\n",
              "      <td>0</td>\n",
              "      <td>0</td>\n",
              "      <td>0</td>\n",
              "      <td>0</td>\n",
              "      <td>0</td>\n",
              "      <td>0</td>\n",
              "      <td>0</td>\n",
              "    </tr>\n",
              "    <tr>\n",
              "      <th>34</th>\n",
              "      <td>143</td>\n",
              "      <td>2kWrSFkIes_d2BMg4YrRtA</td>\n",
              "      <td>Pizza Hut</td>\n",
              "      <td>Sunrise</td>\n",
              "      <td>560 N. Nellis Blvd, Ste E1</td>\n",
              "      <td>Las Vegas</td>\n",
              "      <td>NV</td>\n",
              "      <td>89110</td>\n",
              "      <td>36.169353</td>\n",
              "      <td>-115.061694</td>\n",
              "      <td>2.5</td>\n",
              "      <td>19</td>\n",
              "      <td>1</td>\n",
              "      <td>Restaurants, Pizza</td>\n",
              "      <td>{'Monday': '11:0-23:0', 'Tuesday': '11:0-23:0'...</td>\n",
              "      <td>0.5</td>\n",
              "      <td>0.5</td>\n",
              "      <td>0.0</td>\n",
              "      <td>0.0</td>\n",
              "      <td>0.0</td>\n",
              "      <td>0.0</td>\n",
              "      <td>0.5</td>\n",
              "      <td>0.5</td>\n",
              "      <td>0.0</td>\n",
              "      <td>0.5</td>\n",
              "      <td>0.5</td>\n",
              "      <td>0.5</td>\n",
              "      <td>0.5</td>\n",
              "      <td>0.5</td>\n",
              "      <td>0.5</td>\n",
              "      <td>0.5</td>\n",
              "      <td>0.5</td>\n",
              "      <td>0.5</td>\n",
              "      <td>0.5</td>\n",
              "      <td>0.5</td>\n",
              "      <td>0.5</td>\n",
              "      <td>0.5</td>\n",
              "      <td>0.5</td>\n",
              "      <td>0.5</td>\n",
              "      <td>0.5</td>\n",
              "      <td>...</td>\n",
              "      <td>0</td>\n",
              "      <td>0</td>\n",
              "      <td>0</td>\n",
              "      <td>0</td>\n",
              "      <td>0</td>\n",
              "      <td>0</td>\n",
              "      <td>0</td>\n",
              "      <td>0</td>\n",
              "      <td>0</td>\n",
              "      <td>0</td>\n",
              "      <td>0</td>\n",
              "      <td>0</td>\n",
              "      <td>0</td>\n",
              "      <td>0</td>\n",
              "      <td>0</td>\n",
              "      <td>0</td>\n",
              "      <td>0</td>\n",
              "      <td>0</td>\n",
              "      <td>0</td>\n",
              "      <td>0</td>\n",
              "      <td>0</td>\n",
              "      <td>0</td>\n",
              "      <td>0</td>\n",
              "      <td>0</td>\n",
              "      <td>0</td>\n",
              "      <td>0</td>\n",
              "      <td>0</td>\n",
              "      <td>0</td>\n",
              "      <td>0</td>\n",
              "      <td>0</td>\n",
              "      <td>0</td>\n",
              "      <td>0</td>\n",
              "      <td>0</td>\n",
              "      <td>0</td>\n",
              "      <td>0</td>\n",
              "      <td>0</td>\n",
              "      <td>0</td>\n",
              "      <td>0</td>\n",
              "      <td>0</td>\n",
              "      <td>0</td>\n",
              "    </tr>\n",
              "    <tr>\n",
              "      <th>35</th>\n",
              "      <td>145</td>\n",
              "      <td>6llKs7K_tn8ChXcIM-oTvg</td>\n",
              "      <td>Sansei Japan</td>\n",
              "      <td>Eastside</td>\n",
              "      <td>3480 S Maryland Pkwy</td>\n",
              "      <td>Las Vegas</td>\n",
              "      <td>NV</td>\n",
              "      <td>89169</td>\n",
              "      <td>36.125934</td>\n",
              "      <td>-115.135253</td>\n",
              "      <td>4.5</td>\n",
              "      <td>3</td>\n",
              "      <td>1</td>\n",
              "      <td>Japanese, Restaurants</td>\n",
              "      <td>NaN</td>\n",
              "      <td>0.5</td>\n",
              "      <td>0.5</td>\n",
              "      <td>0.5</td>\n",
              "      <td>0.5</td>\n",
              "      <td>0.5</td>\n",
              "      <td>0.5</td>\n",
              "      <td>0.5</td>\n",
              "      <td>0.5</td>\n",
              "      <td>0.5</td>\n",
              "      <td>0.5</td>\n",
              "      <td>0.5</td>\n",
              "      <td>0.5</td>\n",
              "      <td>0.5</td>\n",
              "      <td>0.5</td>\n",
              "      <td>1.0</td>\n",
              "      <td>0.5</td>\n",
              "      <td>0.5</td>\n",
              "      <td>0.5</td>\n",
              "      <td>0.5</td>\n",
              "      <td>0.5</td>\n",
              "      <td>0.5</td>\n",
              "      <td>0.5</td>\n",
              "      <td>0.5</td>\n",
              "      <td>0.5</td>\n",
              "      <td>0.5</td>\n",
              "      <td>...</td>\n",
              "      <td>0</td>\n",
              "      <td>0</td>\n",
              "      <td>0</td>\n",
              "      <td>0</td>\n",
              "      <td>0</td>\n",
              "      <td>0</td>\n",
              "      <td>0</td>\n",
              "      <td>0</td>\n",
              "      <td>0</td>\n",
              "      <td>0</td>\n",
              "      <td>0</td>\n",
              "      <td>0</td>\n",
              "      <td>0</td>\n",
              "      <td>0</td>\n",
              "      <td>0</td>\n",
              "      <td>0</td>\n",
              "      <td>0</td>\n",
              "      <td>0</td>\n",
              "      <td>0</td>\n",
              "      <td>0</td>\n",
              "      <td>0</td>\n",
              "      <td>0</td>\n",
              "      <td>0</td>\n",
              "      <td>0</td>\n",
              "      <td>0</td>\n",
              "      <td>0</td>\n",
              "      <td>0</td>\n",
              "      <td>0</td>\n",
              "      <td>0</td>\n",
              "      <td>0</td>\n",
              "      <td>0</td>\n",
              "      <td>0</td>\n",
              "      <td>0</td>\n",
              "      <td>0</td>\n",
              "      <td>0</td>\n",
              "      <td>0</td>\n",
              "      <td>0</td>\n",
              "      <td>0</td>\n",
              "      <td>0</td>\n",
              "      <td>0</td>\n",
              "    </tr>\n",
              "  </tbody>\n",
              "</table>\n",
              "<p>5 rows × 452 columns</p>\n",
              "</div>"
            ],
            "text/plain": [
              "    org_index             business_id  ... Yelp Events Yoga\n",
              "8          32  kgffcoxT6BQp-gJ-UQ7Czw  ...           0    0\n",
              "9          33  0jtRI7hVMpQHpUVtUy4ITw  ...           0    0\n",
              "32        141  zhxnD7J5_sCrKSw5cwI9dQ  ...           0    0\n",
              "34        143  2kWrSFkIes_d2BMg4YrRtA  ...           0    0\n",
              "35        145  6llKs7K_tn8ChXcIM-oTvg  ...           0    0\n",
              "\n",
              "[5 rows x 452 columns]"
            ]
          },
          "metadata": {
            "tags": []
          },
          "execution_count": 20
        }
      ]
    },
    {
      "cell_type": "code",
      "metadata": {
        "id": "sc0oiGh1kNtT",
        "colab_type": "code",
        "colab": {}
      },
      "source": [
        "def getDfSummary(input_data):\n",
        "    output_data=input_data.describe() \n",
        "    output_data.loc['number_distinct'] = input_data.nunique() \n",
        "    output_data.loc['number_nan'] = input_data.isna().sum()\n",
        "    output_data=output_data.drop('count', axis=0)\n",
        "    output_data=output_data.T\n",
        "    return output_data"
      ],
      "execution_count": 0,
      "outputs": []
    },
    {
      "cell_type": "code",
      "metadata": {
        "id": "igP31gvdx6Ot",
        "colab_type": "code",
        "outputId": "3c26316a-3df3-4483-8a29-e26e6fd1de53",
        "colab": {
          "base_uri": "https://localhost:8080/",
          "height": 402
        }
      },
      "source": [
        "getDfSummary(vegas_final)"
      ],
      "execution_count": 22,
      "outputs": [
        {
          "output_type": "execute_result",
          "data": {
            "text/html": [
              "<div>\n",
              "<style scoped>\n",
              "    .dataframe tbody tr th:only-of-type {\n",
              "        vertical-align: middle;\n",
              "    }\n",
              "\n",
              "    .dataframe tbody tr th {\n",
              "        vertical-align: top;\n",
              "    }\n",
              "\n",
              "    .dataframe thead th {\n",
              "        text-align: right;\n",
              "    }\n",
              "</style>\n",
              "<table border=\"1\" class=\"dataframe\">\n",
              "  <thead>\n",
              "    <tr style=\"text-align: right;\">\n",
              "      <th></th>\n",
              "      <th>mean</th>\n",
              "      <th>std</th>\n",
              "      <th>min</th>\n",
              "      <th>25%</th>\n",
              "      <th>50%</th>\n",
              "      <th>75%</th>\n",
              "      <th>max</th>\n",
              "      <th>number_distinct</th>\n",
              "      <th>number_nan</th>\n",
              "    </tr>\n",
              "  </thead>\n",
              "  <tbody>\n",
              "    <tr>\n",
              "      <th>org_index</th>\n",
              "      <td>98475.620005</td>\n",
              "      <td>54644.866855</td>\n",
              "      <td>32.000000</td>\n",
              "      <td>50662.500000</td>\n",
              "      <td>101743.000000</td>\n",
              "      <td>144801.000000</td>\n",
              "      <td>188567.000000</td>\n",
              "      <td>3779.0</td>\n",
              "      <td>0.0</td>\n",
              "    </tr>\n",
              "    <tr>\n",
              "      <th>latitude</th>\n",
              "      <td>36.130546</td>\n",
              "      <td>0.060171</td>\n",
              "      <td>35.606730</td>\n",
              "      <td>36.100372</td>\n",
              "      <td>36.124829</td>\n",
              "      <td>36.159747</td>\n",
              "      <td>36.430308</td>\n",
              "      <td>3481.0</td>\n",
              "      <td>0.0</td>\n",
              "    </tr>\n",
              "    <tr>\n",
              "      <th>longitude</th>\n",
              "      <td>-115.190975</td>\n",
              "      <td>0.070006</td>\n",
              "      <td>-115.679632</td>\n",
              "      <td>-115.243148</td>\n",
              "      <td>-115.175835</td>\n",
              "      <td>-115.144217</td>\n",
              "      <td>-114.896337</td>\n",
              "      <td>3442.0</td>\n",
              "      <td>0.0</td>\n",
              "    </tr>\n",
              "    <tr>\n",
              "      <th>stars</th>\n",
              "      <td>3.434110</td>\n",
              "      <td>0.813643</td>\n",
              "      <td>1.000000</td>\n",
              "      <td>3.000000</td>\n",
              "      <td>3.500000</td>\n",
              "      <td>4.000000</td>\n",
              "      <td>5.000000</td>\n",
              "      <td>9.0</td>\n",
              "      <td>0.0</td>\n",
              "    </tr>\n",
              "    <tr>\n",
              "      <th>review_count</th>\n",
              "      <td>231.700450</td>\n",
              "      <td>451.108130</td>\n",
              "      <td>3.000000</td>\n",
              "      <td>26.000000</td>\n",
              "      <td>83.000000</td>\n",
              "      <td>260.000000</td>\n",
              "      <td>7968.000000</td>\n",
              "      <td>829.0</td>\n",
              "      <td>0.0</td>\n",
              "    </tr>\n",
              "    <tr>\n",
              "      <th>...</th>\n",
              "      <td>...</td>\n",
              "      <td>...</td>\n",
              "      <td>...</td>\n",
              "      <td>...</td>\n",
              "      <td>...</td>\n",
              "      <td>...</td>\n",
              "      <td>...</td>\n",
              "      <td>...</td>\n",
              "      <td>...</td>\n",
              "    </tr>\n",
              "    <tr>\n",
              "      <th>Wineries</th>\n",
              "      <td>0.000265</td>\n",
              "      <td>0.016267</td>\n",
              "      <td>0.000000</td>\n",
              "      <td>0.000000</td>\n",
              "      <td>0.000000</td>\n",
              "      <td>0.000000</td>\n",
              "      <td>1.000000</td>\n",
              "      <td>2.0</td>\n",
              "      <td>0.0</td>\n",
              "    </tr>\n",
              "    <tr>\n",
              "      <th>Women's Clothing</th>\n",
              "      <td>0.000529</td>\n",
              "      <td>0.023002</td>\n",
              "      <td>0.000000</td>\n",
              "      <td>0.000000</td>\n",
              "      <td>0.000000</td>\n",
              "      <td>0.000000</td>\n",
              "      <td>1.000000</td>\n",
              "      <td>2.0</td>\n",
              "      <td>0.0</td>\n",
              "    </tr>\n",
              "    <tr>\n",
              "      <th>Wraps</th>\n",
              "      <td>0.005028</td>\n",
              "      <td>0.070738</td>\n",
              "      <td>0.000000</td>\n",
              "      <td>0.000000</td>\n",
              "      <td>0.000000</td>\n",
              "      <td>0.000000</td>\n",
              "      <td>1.000000</td>\n",
              "      <td>2.0</td>\n",
              "      <td>0.0</td>\n",
              "    </tr>\n",
              "    <tr>\n",
              "      <th>Yelp Events</th>\n",
              "      <td>0.000265</td>\n",
              "      <td>0.016267</td>\n",
              "      <td>0.000000</td>\n",
              "      <td>0.000000</td>\n",
              "      <td>0.000000</td>\n",
              "      <td>0.000000</td>\n",
              "      <td>1.000000</td>\n",
              "      <td>2.0</td>\n",
              "      <td>0.0</td>\n",
              "    </tr>\n",
              "    <tr>\n",
              "      <th>Yoga</th>\n",
              "      <td>0.000265</td>\n",
              "      <td>0.016267</td>\n",
              "      <td>0.000000</td>\n",
              "      <td>0.000000</td>\n",
              "      <td>0.000000</td>\n",
              "      <td>0.000000</td>\n",
              "      <td>1.000000</td>\n",
              "      <td>2.0</td>\n",
              "      <td>0.0</td>\n",
              "    </tr>\n",
              "  </tbody>\n",
              "</table>\n",
              "<p>443 rows × 9 columns</p>\n",
              "</div>"
            ],
            "text/plain": [
              "                          mean           std  ...  number_distinct  number_nan\n",
              "org_index         98475.620005  54644.866855  ...           3779.0         0.0\n",
              "latitude             36.130546      0.060171  ...           3481.0         0.0\n",
              "longitude          -115.190975      0.070006  ...           3442.0         0.0\n",
              "stars                 3.434110      0.813643  ...              9.0         0.0\n",
              "review_count        231.700450    451.108130  ...            829.0         0.0\n",
              "...                        ...           ...  ...              ...         ...\n",
              "Wineries              0.000265      0.016267  ...              2.0         0.0\n",
              "Women's Clothing      0.000529      0.023002  ...              2.0         0.0\n",
              "Wraps                 0.005028      0.070738  ...              2.0         0.0\n",
              "Yelp Events           0.000265      0.016267  ...              2.0         0.0\n",
              "Yoga                  0.000265      0.016267  ...              2.0         0.0\n",
              "\n",
              "[443 rows x 9 columns]"
            ]
          },
          "metadata": {
            "tags": []
          },
          "execution_count": 22
        }
      ]
    },
    {
      "cell_type": "markdown",
      "metadata": {
        "id": "9FkufSkB6ycX",
        "colab_type": "text"
      },
      "source": [
        "###**Define target variable**"
      ]
    },
    {
      "cell_type": "markdown",
      "metadata": {
        "id": "Jf2E3Pun7A5h",
        "colab_type": "text"
      },
      "source": [
        "We carefully examine two success indicators on Yelp, star rating and review counts. Then we decide to create our own target variable, 'success'."
      ]
    },
    {
      "cell_type": "code",
      "metadata": {
        "id": "r0f9RJogjj4x",
        "colab_type": "code",
        "outputId": "707b62d8-c0d6-4ed8-bc0b-805ca2c46de9",
        "colab": {
          "base_uri": "https://localhost:8080/",
          "height": 175
        }
      },
      "source": [
        "vegas_final['review_count'].describe()"
      ],
      "execution_count": 24,
      "outputs": [
        {
          "output_type": "execute_result",
          "data": {
            "text/plain": [
              "count    3779.00000\n",
              "mean      231.70045\n",
              "std       451.10813\n",
              "min         3.00000\n",
              "25%        26.00000\n",
              "50%        83.00000\n",
              "75%       260.00000\n",
              "max      7968.00000\n",
              "Name: review_count, dtype: float64"
            ]
          },
          "metadata": {
            "tags": []
          },
          "execution_count": 24
        }
      ]
    },
    {
      "cell_type": "code",
      "metadata": {
        "id": "C-1HaRIBeExc",
        "colab_type": "code",
        "outputId": "b3af9606-cf20-4f24-d342-bd066041eff8",
        "colab": {
          "base_uri": "https://localhost:8080/",
          "height": 282
        }
      },
      "source": [
        "vegas_final['review_count'].hist(bins=400)\n",
        "\n",
        "plt.xlim(0,500)"
      ],
      "execution_count": 25,
      "outputs": [
        {
          "output_type": "execute_result",
          "data": {
            "text/plain": [
              "(0, 500)"
            ]
          },
          "metadata": {
            "tags": []
          },
          "execution_count": 25
        },
        {
          "output_type": "display_data",
          "data": {
            "image/png": "[encoded data removed]",
            "text/plain": [
              "<Figure size 432x288 with 1 Axes>"
            ]
          },
          "metadata": {
            "tags": []
          }
        }
      ]
    },
    {
      "cell_type": "markdown",
      "metadata": {
        "id": "jBFh2Z887VEW",
        "colab_type": "text"
      },
      "source": [
        "Number of reviews are not normally distributed. "
      ]
    },
    {
      "cell_type": "code",
      "metadata": {
        "id": "-GnnU76zj_6B",
        "colab_type": "code",
        "outputId": "8632d24f-c16f-4f39-d55e-fb5a7f18f5de",
        "colab": {
          "base_uri": "https://localhost:8080/",
          "height": 175
        }
      },
      "source": [
        "vegas_final['stars'].describe()"
      ],
      "execution_count": 26,
      "outputs": [
        {
          "output_type": "execute_result",
          "data": {
            "text/plain": [
              "count    3779.000000\n",
              "mean        3.434110\n",
              "std         0.813643\n",
              "min         1.000000\n",
              "25%         3.000000\n",
              "50%         3.500000\n",
              "75%         4.000000\n",
              "max         5.000000\n",
              "Name: stars, dtype: float64"
            ]
          },
          "metadata": {
            "tags": []
          },
          "execution_count": 26
        }
      ]
    },
    {
      "cell_type": "code",
      "metadata": {
        "id": "K4XQ-vYim9we",
        "colab_type": "code",
        "outputId": "8cf2bb0e-1553-4e82-d592-4de8eda11dc6",
        "colab": {
          "base_uri": "https://localhost:8080/",
          "height": 228
        }
      },
      "source": [
        "vegas_final[vegas_final['stars'] ==5]['review_count']"
      ],
      "execution_count": 27,
      "outputs": [
        {
          "output_type": "execute_result",
          "data": {
            "text/plain": [
              "617        4\n",
              "726       19\n",
              "1125       9\n",
              "1316      15\n",
              "1680     249\n",
              "        ... \n",
              "34187    162\n",
              "34390      7\n",
              "34393     15\n",
              "34784     42\n",
              "35005     32\n",
              "Name: review_count, Length: 83, dtype: int64"
            ]
          },
          "metadata": {
            "tags": []
          },
          "execution_count": 27
        }
      ]
    },
    {
      "cell_type": "code",
      "metadata": {
        "id": "xZNHKPVMgmNS",
        "colab_type": "code",
        "outputId": "6960bb7f-0ec0-4d1b-a37c-d2ce85345953",
        "colab": {
          "base_uri": "https://localhost:8080/",
          "height": 313
        }
      },
      "source": [
        "vegas_final['stars'].hist(bins=10)\n",
        "plt.title('Distribution of star ratings and review counts for Vegas\\'s restaurants on Yelp')\n",
        "plt.xlabel('Average rating')\n",
        "plt.ylabel('Number of restaurants')"
      ],
      "execution_count": 28,
      "outputs": [
        {
          "output_type": "execute_result",
          "data": {
            "text/plain": [
              "Text(0, 0.5, 'Number of restaurants')"
            ]
          },
          "metadata": {
            "tags": []
          },
          "execution_count": 28
        },
        {
          "output_type": "display_data",
          "data": {
            "image/png": "[encoded data removed]",
            "text/plain": [
              "<Figure size 432x288 with 1 Axes>"
            ]
          },
          "metadata": {
            "tags": []
          }
        }
      ]
    },
    {
      "cell_type": "code",
      "metadata": {
        "id": "qnUJB3WTmjCN",
        "colab_type": "code",
        "outputId": "7d2b8444-6167-44a5-a90e-a5af5648b212",
        "colab": {
          "base_uri": "https://localhost:8080/",
          "height": 406
        }
      },
      "source": [
        "plt.boxplot(vegas_final['stars'])"
      ],
      "execution_count": 29,
      "outputs": [
        {
          "output_type": "execute_result",
          "data": {
            "text/plain": [
              "{'boxes': [<matplotlib.lines.Line2D at 0x7f5644cd9550>],\n",
              " 'caps': [<matplotlib.lines.Line2D at 0x7f5644cd9fd0>,\n",
              "  <matplotlib.lines.Line2D at 0x7f5644ce6358>],\n",
              " 'fliers': [<matplotlib.lines.Line2D at 0x7f5644ce69e8>],\n",
              " 'means': [],\n",
              " 'medians': [<matplotlib.lines.Line2D at 0x7f5644ce66a0>],\n",
              " 'whiskers': [<matplotlib.lines.Line2D at 0x7f5644cd98d0>,\n",
              "  <matplotlib.lines.Line2D at 0x7f5644cd9c88>]}"
            ]
          },
          "metadata": {
            "tags": []
          },
          "execution_count": 29
        },
        {
          "output_type": "display_data",
          "data": {
            "image/png": "[encoded data removed]",
            "text/plain": [
              "<Figure size 432x288 with 1 Axes>"
            ]
          },
          "metadata": {
            "tags": []
          }
        }
      ]
    },
    {
      "cell_type": "markdown",
      "metadata": {
        "id": "KWFw2Wt-7dD2",
        "colab_type": "text"
      },
      "source": [
        "From this plot, we can see that most of the ratings fall between 3.0 and 4.5, which is not a wide range. Also, there is no restaurant rated between 2.5 and 3.0. Thus, using star rating as the only indicator of success may not give us a good result."
      ]
    },
    {
      "cell_type": "code",
      "metadata": {
        "id": "m4wtpelKNy1p",
        "colab_type": "code",
        "outputId": "e2c08c5e-96e1-41bd-ca30-95bb3a480edd",
        "colab": {
          "base_uri": "https://localhost:8080/",
          "height": 474
        }
      },
      "source": [
        "#Plot reviews and stars\n",
        "fig,ax = plt.subplots(figsize =[20,5])\n",
        "\n",
        "x_stars = vegas_final['stars']\n",
        "y_reviews = vegas_final['review_count']\n",
        "z_name = vegas_final['name']\n",
        "\n",
        "plt.scatter(y_reviews,x_stars)\n",
        "plt.xlim(0,2000)\n",
        "\n",
        "for i, txt in enumerate(z_name):\n",
        "  if (y_reviews.iloc[i]>2500 and x_stars.iloc[i]>=4.0):\n",
        "    plt.annotate(txt, (y_reviews.iloc[i], x_stars.iloc[i]),xytext=(-5, 10), textcoords='offset points',ha = 'left',va='bottom', rotation=45 )\n",
        "\n",
        "plt.title('Distribution of star ratings and review counts for Vegas\\'s restaurants on Yelp')\n",
        "plt.xlabel('Number of reviews')\n",
        "plt.ylabel('Average rating')\n"
      ],
      "execution_count": 36,
      "outputs": [
        {
          "output_type": "execute_result",
          "data": {
            "text/plain": [
              "Text(0, 0.5, 'Average rating')"
            ]
          },
          "metadata": {
            "tags": []
          },
          "execution_count": 36
        },
        {
          "output_type": "display_data",
          "data": {
            "image/png": "[encoded data removed]",
            "text/plain": [
              "<Figure size 1440x360 with 1 Axes>"
            ]
          },
          "metadata": {
            "tags": []
          }
        }
      ]
    },
    {
      "cell_type": "markdown",
      "metadata": {
        "id": "32jAH2Kgr3UG",
        "colab_type": "text"
      },
      "source": [
        "When looking at star ratings and number of review counts together, we see a more complete picture. A successful restaurant should have both high ratings and high number of reviews."
      ]
    },
    {
      "cell_type": "markdown",
      "metadata": {
        "id": "alCNvUjD8odd",
        "colab_type": "text"
      },
      "source": [
        "**Target variable: 'success'**\n",
        "\n",
        "We create our own target variable, named 'success', which is a binary variable. A successful restaurant on Yelp is defined as one that has more than 100 reviews and more than 4.0 average rating."
      ]
    },
    {
      "cell_type": "code",
      "metadata": {
        "id": "N7dVX0sjo3KC",
        "colab_type": "code",
        "outputId": "0732ca07-0770-4560-862f-f112d49505dc",
        "colab": {
          "base_uri": "https://localhost:8080/",
          "height": 105
        }
      },
      "source": [
        "#Create our target variable, named 'Sucess', Y = 1 if success, and = 0 otherwise\n",
        "vegas_final['success'] = 0\n",
        "success_list = vegas_final[(vegas_final['review_count']>100) & (vegas_final['stars']>4)].index.tolist()\n",
        "vegas_final['success'][success_list] = 1"
      ],
      "execution_count": 30,
      "outputs": [
        {
          "output_type": "stream",
          "text": [
            "/usr/local/lib/python3.6/dist-packages/ipykernel_launcher.py:3: SettingWithCopyWarning: \n",
            "A value is trying to be set on a copy of a slice from a DataFrame\n",
            "\n",
            "See the caveats in the documentation: http://pandas.pydata.org/pandas-docs/stable/user_guide/indexing.html#returning-a-view-versus-a-copy\n",
            "  This is separate from the ipykernel package so we can avoid doing imports until\n"
          ],
          "name": "stderr"
        }
      ]
    },
    {
      "cell_type": "code",
      "metadata": {
        "id": "ItK3_oD4om8U",
        "colab_type": "code",
        "outputId": "4c955b43-14d6-4849-9c41-3f07de8dea3c",
        "colab": {
          "base_uri": "https://localhost:8080/",
          "height": 664
        }
      },
      "source": [
        "vegas_final.describe()\n",
        "vegas_final.head(5)"
      ],
      "execution_count": 31,
      "outputs": [
        {
          "output_type": "execute_result",
          "data": {
            "text/html": [
              "<div>\n",
              "<style scoped>\n",
              "    .dataframe tbody tr th:only-of-type {\n",
              "        vertical-align: middle;\n",
              "    }\n",
              "\n",
              "    .dataframe tbody tr th {\n",
              "        vertical-align: top;\n",
              "    }\n",
              "\n",
              "    .dataframe thead th {\n",
              "        text-align: right;\n",
              "    }\n",
              "</style>\n",
              "<table border=\"1\" class=\"dataframe\">\n",
              "  <thead>\n",
              "    <tr style=\"text-align: right;\">\n",
              "      <th></th>\n",
              "      <th>org_index</th>\n",
              "      <th>business_id</th>\n",
              "      <th>name</th>\n",
              "      <th>neighborhood</th>\n",
              "      <th>address</th>\n",
              "      <th>city</th>\n",
              "      <th>state</th>\n",
              "      <th>postal_code</th>\n",
              "      <th>latitude</th>\n",
              "      <th>longitude</th>\n",
              "      <th>stars</th>\n",
              "      <th>review_count</th>\n",
              "      <th>is_open</th>\n",
              "      <th>categories</th>\n",
              "      <th>hours</th>\n",
              "      <th>BusinessAcceptsCreditCards</th>\n",
              "      <th>BusinessParking_garage</th>\n",
              "      <th>BusinessParking_street</th>\n",
              "      <th>BusinessParking_validated</th>\n",
              "      <th>BusinessParking_lot</th>\n",
              "      <th>BusinessParking_valet</th>\n",
              "      <th>GoodForKids</th>\n",
              "      <th>WheelchairAccessible</th>\n",
              "      <th>BikeParking</th>\n",
              "      <th>Alcohol</th>\n",
              "      <th>HasTV</th>\n",
              "      <th>NoiseLevel</th>\n",
              "      <th>RestaurantsAttire</th>\n",
              "      <th>Music_dj</th>\n",
              "      <th>Caters</th>\n",
              "      <th>WiFi</th>\n",
              "      <th>RestaurantsReservations</th>\n",
              "      <th>RestaurantsTakeOut</th>\n",
              "      <th>HappyHour</th>\n",
              "      <th>GoodForDancing</th>\n",
              "      <th>RestaurantsTableService</th>\n",
              "      <th>OutdoorSeating</th>\n",
              "      <th>RestaurantsDelivery</th>\n",
              "      <th>BestNights_monday</th>\n",
              "      <th>BestNights_tuesday</th>\n",
              "      <th>...</th>\n",
              "      <th>Tiki Bars</th>\n",
              "      <th>Tobacco Shops</th>\n",
              "      <th>Tours</th>\n",
              "      <th>Towing</th>\n",
              "      <th>Trainers</th>\n",
              "      <th>Transmission Repair</th>\n",
              "      <th>Transportation</th>\n",
              "      <th>Travel Services</th>\n",
              "      <th>Truck Rental</th>\n",
              "      <th>Turkish</th>\n",
              "      <th>Tuscan</th>\n",
              "      <th>Ukrainian</th>\n",
              "      <th>Vegan</th>\n",
              "      <th>Vegetarian</th>\n",
              "      <th>Vehicle Wraps</th>\n",
              "      <th>Venezuelan</th>\n",
              "      <th>Venues &amp; Event Spaces</th>\n",
              "      <th>Videos &amp; Video Game Rental</th>\n",
              "      <th>Vietnamese</th>\n",
              "      <th>Vitamins &amp; Supplements</th>\n",
              "      <th>Waffles</th>\n",
              "      <th>Walking Tours</th>\n",
              "      <th>Water Heater Installation/Repair</th>\n",
              "      <th>Water Stores</th>\n",
              "      <th>Waxing</th>\n",
              "      <th>Wedding Chapels</th>\n",
              "      <th>Wedding Planning</th>\n",
              "      <th>Weight Loss Centers</th>\n",
              "      <th>Whiskey Bars</th>\n",
              "      <th>Wholesale Stores</th>\n",
              "      <th>Wholesalers</th>\n",
              "      <th>Windshield Installation &amp; Repair</th>\n",
              "      <th>Wine &amp; Spirits</th>\n",
              "      <th>Wine Bars</th>\n",
              "      <th>Wineries</th>\n",
              "      <th>Women's Clothing</th>\n",
              "      <th>Wraps</th>\n",
              "      <th>Yelp Events</th>\n",
              "      <th>Yoga</th>\n",
              "      <th>success</th>\n",
              "    </tr>\n",
              "  </thead>\n",
              "  <tbody>\n",
              "    <tr>\n",
              "      <th>8</th>\n",
              "      <td>32</td>\n",
              "      <td>kgffcoxT6BQp-gJ-UQ7Czw</td>\n",
              "      <td>Subway</td>\n",
              "      <td>Summerlin</td>\n",
              "      <td>2255 N Rampart Blvd</td>\n",
              "      <td>Las Vegas</td>\n",
              "      <td>NV</td>\n",
              "      <td>89128</td>\n",
              "      <td>36.201794</td>\n",
              "      <td>-115.281981</td>\n",
              "      <td>2.5</td>\n",
              "      <td>13</td>\n",
              "      <td>1</td>\n",
              "      <td>Fast Food, Restaurants, Sandwiches</td>\n",
              "      <td>{'Monday': '9:0-21:0', 'Tuesday': '9:0-21:0', ...</td>\n",
              "      <td>0.5</td>\n",
              "      <td>0.5</td>\n",
              "      <td>0.0</td>\n",
              "      <td>0.0</td>\n",
              "      <td>0.0</td>\n",
              "      <td>1.0</td>\n",
              "      <td>0.5</td>\n",
              "      <td>0.5</td>\n",
              "      <td>0.5</td>\n",
              "      <td>0.5</td>\n",
              "      <td>0.5</td>\n",
              "      <td>0.5</td>\n",
              "      <td>0.5</td>\n",
              "      <td>0.5</td>\n",
              "      <td>0.5</td>\n",
              "      <td>0.5</td>\n",
              "      <td>0.5</td>\n",
              "      <td>0.5</td>\n",
              "      <td>0.5</td>\n",
              "      <td>0.5</td>\n",
              "      <td>0.5</td>\n",
              "      <td>0.5</td>\n",
              "      <td>0.5</td>\n",
              "      <td>0.5</td>\n",
              "      <td>0.5</td>\n",
              "      <td>...</td>\n",
              "      <td>0</td>\n",
              "      <td>0</td>\n",
              "      <td>0</td>\n",
              "      <td>0</td>\n",
              "      <td>0</td>\n",
              "      <td>0</td>\n",
              "      <td>0</td>\n",
              "      <td>0</td>\n",
              "      <td>0</td>\n",
              "      <td>0</td>\n",
              "      <td>0</td>\n",
              "      <td>0</td>\n",
              "      <td>0</td>\n",
              "      <td>0</td>\n",
              "      <td>0</td>\n",
              "      <td>0</td>\n",
              "      <td>0</td>\n",
              "      <td>0</td>\n",
              "      <td>0</td>\n",
              "      <td>0</td>\n",
              "      <td>0</td>\n",
              "      <td>0</td>\n",
              "      <td>0</td>\n",
              "      <td>0</td>\n",
              "      <td>0</td>\n",
              "      <td>0</td>\n",
              "      <td>0</td>\n",
              "      <td>0</td>\n",
              "      <td>0</td>\n",
              "      <td>0</td>\n",
              "      <td>0</td>\n",
              "      <td>0</td>\n",
              "      <td>0</td>\n",
              "      <td>0</td>\n",
              "      <td>0</td>\n",
              "      <td>0</td>\n",
              "      <td>0</td>\n",
              "      <td>0</td>\n",
              "      <td>0</td>\n",
              "      <td>0</td>\n",
              "    </tr>\n",
              "    <tr>\n",
              "      <th>9</th>\n",
              "      <td>33</td>\n",
              "      <td>0jtRI7hVMpQHpUVtUy4ITw</td>\n",
              "      <td>Omelet House Summerlin</td>\n",
              "      <td>Summerlin</td>\n",
              "      <td>2227 N Rampart Blvd</td>\n",
              "      <td>Las Vegas</td>\n",
              "      <td>NV</td>\n",
              "      <td>89128</td>\n",
              "      <td>36.201990</td>\n",
              "      <td>-115.283122</td>\n",
              "      <td>4.0</td>\n",
              "      <td>242</td>\n",
              "      <td>1</td>\n",
              "      <td>Beer, Wine &amp; Spirits, Italian, Food, American ...</td>\n",
              "      <td>{'Monday': '7:0-14:30', 'Tuesday': '7:0-19:0',...</td>\n",
              "      <td>0.5</td>\n",
              "      <td>0.5</td>\n",
              "      <td>0.0</td>\n",
              "      <td>0.0</td>\n",
              "      <td>0.0</td>\n",
              "      <td>1.0</td>\n",
              "      <td>0.5</td>\n",
              "      <td>0.5</td>\n",
              "      <td>1.0</td>\n",
              "      <td>0.5</td>\n",
              "      <td>0.5</td>\n",
              "      <td>0.5</td>\n",
              "      <td>0.5</td>\n",
              "      <td>0.5</td>\n",
              "      <td>0.5</td>\n",
              "      <td>0.5</td>\n",
              "      <td>0.5</td>\n",
              "      <td>0.5</td>\n",
              "      <td>0.5</td>\n",
              "      <td>0.5</td>\n",
              "      <td>0.5</td>\n",
              "      <td>0.5</td>\n",
              "      <td>0.5</td>\n",
              "      <td>0.5</td>\n",
              "      <td>0.5</td>\n",
              "      <td>...</td>\n",
              "      <td>0</td>\n",
              "      <td>0</td>\n",
              "      <td>0</td>\n",
              "      <td>0</td>\n",
              "      <td>0</td>\n",
              "      <td>0</td>\n",
              "      <td>0</td>\n",
              "      <td>0</td>\n",
              "      <td>0</td>\n",
              "      <td>0</td>\n",
              "      <td>0</td>\n",
              "      <td>0</td>\n",
              "      <td>0</td>\n",
              "      <td>0</td>\n",
              "      <td>0</td>\n",
              "      <td>0</td>\n",
              "      <td>0</td>\n",
              "      <td>0</td>\n",
              "      <td>0</td>\n",
              "      <td>0</td>\n",
              "      <td>0</td>\n",
              "      <td>0</td>\n",
              "      <td>0</td>\n",
              "      <td>0</td>\n",
              "      <td>0</td>\n",
              "      <td>0</td>\n",
              "      <td>0</td>\n",
              "      <td>0</td>\n",
              "      <td>0</td>\n",
              "      <td>0</td>\n",
              "      <td>0</td>\n",
              "      <td>0</td>\n",
              "      <td>1</td>\n",
              "      <td>0</td>\n",
              "      <td>0</td>\n",
              "      <td>0</td>\n",
              "      <td>0</td>\n",
              "      <td>0</td>\n",
              "      <td>0</td>\n",
              "      <td>0</td>\n",
              "    </tr>\n",
              "    <tr>\n",
              "      <th>32</th>\n",
              "      <td>141</td>\n",
              "      <td>zhxnD7J5_sCrKSw5cwI9dQ</td>\n",
              "      <td>Popeyes Louisiana Kitchen</td>\n",
              "      <td>Sunrise</td>\n",
              "      <td>4505 E Bonanza Rd</td>\n",
              "      <td>Las Vegas</td>\n",
              "      <td>NV</td>\n",
              "      <td>89110</td>\n",
              "      <td>36.173140</td>\n",
              "      <td>-115.077945</td>\n",
              "      <td>1.5</td>\n",
              "      <td>16</td>\n",
              "      <td>1</td>\n",
              "      <td>Chicken Wings, Restaurants, Fast Food</td>\n",
              "      <td>{'Monday': '10:0-23:0', 'Tuesday': '10:0-23:0'...</td>\n",
              "      <td>0.5</td>\n",
              "      <td>0.5</td>\n",
              "      <td>0.0</td>\n",
              "      <td>0.0</td>\n",
              "      <td>0.0</td>\n",
              "      <td>0.0</td>\n",
              "      <td>0.5</td>\n",
              "      <td>0.5</td>\n",
              "      <td>0.5</td>\n",
              "      <td>0.5</td>\n",
              "      <td>0.5</td>\n",
              "      <td>0.5</td>\n",
              "      <td>0.5</td>\n",
              "      <td>0.5</td>\n",
              "      <td>0.5</td>\n",
              "      <td>0.5</td>\n",
              "      <td>0.5</td>\n",
              "      <td>0.5</td>\n",
              "      <td>0.5</td>\n",
              "      <td>0.5</td>\n",
              "      <td>0.5</td>\n",
              "      <td>0.5</td>\n",
              "      <td>0.5</td>\n",
              "      <td>0.5</td>\n",
              "      <td>0.5</td>\n",
              "      <td>...</td>\n",
              "      <td>0</td>\n",
              "      <td>0</td>\n",
              "      <td>0</td>\n",
              "      <td>0</td>\n",
              "      <td>0</td>\n",
              "      <td>0</td>\n",
              "      <td>0</td>\n",
              "      <td>0</td>\n",
              "      <td>0</td>\n",
              "      <td>0</td>\n",
              "      <td>0</td>\n",
              "      <td>0</td>\n",
              "      <td>0</td>\n",
              "      <td>0</td>\n",
              "      <td>0</td>\n",
              "      <td>0</td>\n",
              "      <td>0</td>\n",
              "      <td>0</td>\n",
              "      <td>0</td>\n",
              "      <td>0</td>\n",
              "      <td>0</td>\n",
              "      <td>0</td>\n",
              "      <td>0</td>\n",
              "      <td>0</td>\n",
              "      <td>0</td>\n",
              "      <td>0</td>\n",
              "      <td>0</td>\n",
              "      <td>0</td>\n",
              "      <td>0</td>\n",
              "      <td>0</td>\n",
              "      <td>0</td>\n",
              "      <td>0</td>\n",
              "      <td>0</td>\n",
              "      <td>0</td>\n",
              "      <td>0</td>\n",
              "      <td>0</td>\n",
              "      <td>0</td>\n",
              "      <td>0</td>\n",
              "      <td>0</td>\n",
              "      <td>0</td>\n",
              "    </tr>\n",
              "    <tr>\n",
              "      <th>34</th>\n",
              "      <td>143</td>\n",
              "      <td>2kWrSFkIes_d2BMg4YrRtA</td>\n",
              "      <td>Pizza Hut</td>\n",
              "      <td>Sunrise</td>\n",
              "      <td>560 N. Nellis Blvd, Ste E1</td>\n",
              "      <td>Las Vegas</td>\n",
              "      <td>NV</td>\n",
              "      <td>89110</td>\n",
              "      <td>36.169353</td>\n",
              "      <td>-115.061694</td>\n",
              "      <td>2.5</td>\n",
              "      <td>19</td>\n",
              "      <td>1</td>\n",
              "      <td>Restaurants, Pizza</td>\n",
              "      <td>{'Monday': '11:0-23:0', 'Tuesday': '11:0-23:0'...</td>\n",
              "      <td>0.5</td>\n",
              "      <td>0.5</td>\n",
              "      <td>0.0</td>\n",
              "      <td>0.0</td>\n",
              "      <td>0.0</td>\n",
              "      <td>0.0</td>\n",
              "      <td>0.5</td>\n",
              "      <td>0.5</td>\n",
              "      <td>0.0</td>\n",
              "      <td>0.5</td>\n",
              "      <td>0.5</td>\n",
              "      <td>0.5</td>\n",
              "      <td>0.5</td>\n",
              "      <td>0.5</td>\n",
              "      <td>0.5</td>\n",
              "      <td>0.5</td>\n",
              "      <td>0.5</td>\n",
              "      <td>0.5</td>\n",
              "      <td>0.5</td>\n",
              "      <td>0.5</td>\n",
              "      <td>0.5</td>\n",
              "      <td>0.5</td>\n",
              "      <td>0.5</td>\n",
              "      <td>0.5</td>\n",
              "      <td>0.5</td>\n",
              "      <td>...</td>\n",
              "      <td>0</td>\n",
              "      <td>0</td>\n",
              "      <td>0</td>\n",
              "      <td>0</td>\n",
              "      <td>0</td>\n",
              "      <td>0</td>\n",
              "      <td>0</td>\n",
              "      <td>0</td>\n",
              "      <td>0</td>\n",
              "      <td>0</td>\n",
              "      <td>0</td>\n",
              "      <td>0</td>\n",
              "      <td>0</td>\n",
              "      <td>0</td>\n",
              "      <td>0</td>\n",
              "      <td>0</td>\n",
              "      <td>0</td>\n",
              "      <td>0</td>\n",
              "      <td>0</td>\n",
              "      <td>0</td>\n",
              "      <td>0</td>\n",
              "      <td>0</td>\n",
              "      <td>0</td>\n",
              "      <td>0</td>\n",
              "      <td>0</td>\n",
              "      <td>0</td>\n",
              "      <td>0</td>\n",
              "      <td>0</td>\n",
              "      <td>0</td>\n",
              "      <td>0</td>\n",
              "      <td>0</td>\n",
              "      <td>0</td>\n",
              "      <td>0</td>\n",
              "      <td>0</td>\n",
              "      <td>0</td>\n",
              "      <td>0</td>\n",
              "      <td>0</td>\n",
              "      <td>0</td>\n",
              "      <td>0</td>\n",
              "      <td>0</td>\n",
              "    </tr>\n",
              "    <tr>\n",
              "      <th>35</th>\n",
              "      <td>145</td>\n",
              "      <td>6llKs7K_tn8ChXcIM-oTvg</td>\n",
              "      <td>Sansei Japan</td>\n",
              "      <td>Eastside</td>\n",
              "      <td>3480 S Maryland Pkwy</td>\n",
              "      <td>Las Vegas</td>\n",
              "      <td>NV</td>\n",
              "      <td>89169</td>\n",
              "      <td>36.125934</td>\n",
              "      <td>-115.135253</td>\n",
              "      <td>4.5</td>\n",
              "      <td>3</td>\n",
              "      <td>1</td>\n",
              "      <td>Japanese, Restaurants</td>\n",
              "      <td>NaN</td>\n",
              "      <td>0.5</td>\n",
              "      <td>0.5</td>\n",
              "      <td>0.5</td>\n",
              "      <td>0.5</td>\n",
              "      <td>0.5</td>\n",
              "      <td>0.5</td>\n",
              "      <td>0.5</td>\n",
              "      <td>0.5</td>\n",
              "      <td>0.5</td>\n",
              "      <td>0.5</td>\n",
              "      <td>0.5</td>\n",
              "      <td>0.5</td>\n",
              "      <td>0.5</td>\n",
              "      <td>0.5</td>\n",
              "      <td>1.0</td>\n",
              "      <td>0.5</td>\n",
              "      <td>0.5</td>\n",
              "      <td>0.5</td>\n",
              "      <td>0.5</td>\n",
              "      <td>0.5</td>\n",
              "      <td>0.5</td>\n",
              "      <td>0.5</td>\n",
              "      <td>0.5</td>\n",
              "      <td>0.5</td>\n",
              "      <td>0.5</td>\n",
              "      <td>...</td>\n",
              "      <td>0</td>\n",
              "      <td>0</td>\n",
              "      <td>0</td>\n",
              "      <td>0</td>\n",
              "      <td>0</td>\n",
              "      <td>0</td>\n",
              "      <td>0</td>\n",
              "      <td>0</td>\n",
              "      <td>0</td>\n",
              "      <td>0</td>\n",
              "      <td>0</td>\n",
              "      <td>0</td>\n",
              "      <td>0</td>\n",
              "      <td>0</td>\n",
              "      <td>0</td>\n",
              "      <td>0</td>\n",
              "      <td>0</td>\n",
              "      <td>0</td>\n",
              "      <td>0</td>\n",
              "      <td>0</td>\n",
              "      <td>0</td>\n",
              "      <td>0</td>\n",
              "      <td>0</td>\n",
              "      <td>0</td>\n",
              "      <td>0</td>\n",
              "      <td>0</td>\n",
              "      <td>0</td>\n",
              "      <td>0</td>\n",
              "      <td>0</td>\n",
              "      <td>0</td>\n",
              "      <td>0</td>\n",
              "      <td>0</td>\n",
              "      <td>0</td>\n",
              "      <td>0</td>\n",
              "      <td>0</td>\n",
              "      <td>0</td>\n",
              "      <td>0</td>\n",
              "      <td>0</td>\n",
              "      <td>0</td>\n",
              "      <td>0</td>\n",
              "    </tr>\n",
              "  </tbody>\n",
              "</table>\n",
              "<p>5 rows × 453 columns</p>\n",
              "</div>"
            ],
            "text/plain": [
              "    org_index             business_id  ... Yoga success\n",
              "8          32  kgffcoxT6BQp-gJ-UQ7Czw  ...    0       0\n",
              "9          33  0jtRI7hVMpQHpUVtUy4ITw  ...    0       0\n",
              "32        141  zhxnD7J5_sCrKSw5cwI9dQ  ...    0       0\n",
              "34        143  2kWrSFkIes_d2BMg4YrRtA  ...    0       0\n",
              "35        145  6llKs7K_tn8ChXcIM-oTvg  ...    0       0\n",
              "\n",
              "[5 rows x 453 columns]"
            ]
          },
          "metadata": {
            "tags": []
          },
          "execution_count": 31
        }
      ]
    },
    {
      "cell_type": "code",
      "metadata": {
        "id": "-8QCft2wyIco",
        "colab_type": "code",
        "colab": {}
      },
      "source": [
        "#Export clean data to csv\n",
        "vegas_final.to_csv(r'/content/gdrive/My Drive/YELP/yelp-interimdata/vegas.csv')\n",
        "\n",
        "vegas_final.shape"
      ],
      "execution_count": 0,
      "outputs": []
    },
    {
      "cell_type": "code",
      "metadata": {
        "id": "N-z1mtNdqNml",
        "colab_type": "code",
        "outputId": "f8ff1b29-3923-4c0c-d514-3f15596a4819",
        "colab": {
          "base_uri": "https://localhost:8080/",
          "height": 338
        }
      },
      "source": [
        "#Plot to compare the restaurants that have highest ratings (and total review counts) vs. lowest ones\n",
        "#Introduce the interaction term, 'total_stars' = 'review_count'*'stars'\n",
        "fig,ax = plt.subplots(figsize =[20,5])\n",
        "vegas_final['total_stars'] = vegas_final['stars']*vegas_final['review_count']\n",
        "highstar = vegas_final[vegas_final['success']==1].sort_values(['total_stars'],ascending=False)\n",
        "y = highstar['total_stars'].head(10)\n",
        "x = highstar['name'].head(10)\n",
        "plt.scatter(x,y)\n",
        "\n",
        "# z = df['review_count'].head(10)"
      ],
      "execution_count": 34,
      "outputs": [
        {
          "output_type": "execute_result",
          "data": {
            "text/plain": [
              "<matplotlib.collections.PathCollection at 0x7f56448fd550>"
            ]
          },
          "metadata": {
            "tags": []
          },
          "execution_count": 34
        },
        {
          "output_type": "display_data",
          "data": {
            "image/png": "[encoded data removed]",
            "text/plain": [
              "<Figure size 1440x360 with 1 Axes>"
            ]
          },
          "metadata": {
            "tags": []
          }
        }
      ]
    },
    {
      "cell_type": "code",
      "metadata": {
        "id": "TMWo5aItsfpq",
        "colab_type": "code",
        "outputId": "a436cca2-05bf-45c4-8636-4bd880fb6268",
        "colab": {
          "base_uri": "https://localhost:8080/",
          "height": 282
        }
      },
      "source": [
        "lowstar = vegas_final[vegas_final['success']==0].sort_values(['total_stars'],ascending=True)\n",
        "y2 = lowstar['stars'].head(15)\n",
        "x2 = lowstar['name'].head(15)\n",
        "plt.scatter(y2,x2)"
      ],
      "execution_count": 35,
      "outputs": [
        {
          "output_type": "execute_result",
          "data": {
            "text/plain": [
              "<matplotlib.collections.PathCollection at 0x7f5644071518>"
            ]
          },
          "metadata": {
            "tags": []
          },
          "execution_count": 35
        },
        {
          "output_type": "display_data",
          "data": {
            "image/png": "[encoded data removed]",
            "text/plain": [
              "<Figure size 432x288 with 1 Axes>"
            ]
          },
          "metadata": {
            "tags": []
          }
        }
      ]
    }
  ]
}